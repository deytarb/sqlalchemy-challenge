{
 "cells": [
  {
   "cell_type": "code",
   "execution_count": 2,
   "metadata": {},
   "outputs": [],
   "source": [
    "# import measurement as measurement\n",
    "%matplotlib inline\n",
    "from matplotlib import style\n",
    "style.use('fivethirtyeight')\n",
    "import matplotlib.pyplot as plt"
   ]
  },
  {
   "cell_type": "code",
   "execution_count": 3,
   "metadata": {},
   "outputs": [],
   "source": [
    "import numpy as np\n",
    "import pandas as pd\n",
    "import datetime as dt"
   ]
  },
  {
   "cell_type": "markdown",
   "metadata": {},
   "source": [
    "# Reflect Tables into SQLAlchemy ORM"
   ]
  },
  {
   "cell_type": "code",
   "execution_count": 4,
   "metadata": {},
   "outputs": [],
   "source": [
    "# Python SQL toolkit and Object Relational Mapper\n",
    "import sqlalchemy\n",
    "from sqlalchemy.ext.automap import automap_base\n",
    "from sqlalchemy.orm import Session\n",
    "from sqlalchemy import create_engine, func"
   ]
  },
  {
   "cell_type": "code",
   "execution_count": 5,
   "metadata": {},
   "outputs": [],
   "source": [
    "# create engine to hawaii.sqlite\n",
    "engine = create_engine(\n",
    "    \"sqlite:///hawaii.sqlite\"\n",
    ")"
   ]
  },
  {
   "cell_type": "code",
   "execution_count": 6,
   "metadata": {},
   "outputs": [],
   "source": [
    "# reflect an existing database into a new model\n",
    "Base = automap_base()\n",
    "\n",
    "# reflect the tables\n",
    "Base.prepare(\n",
    "    engine,\n",
    "    reflect=True\n",
    ")"
   ]
  },
  {
   "cell_type": "code",
   "execution_count": 11,
   "metadata": {},
   "outputs": [
    {
     "name": "stdout",
     "output_type": "stream",
     "text": [
      "measurement:\n",
      "station:\n",
      "dict_values([Table('measurement', MetaData(bind=None), Column('id', INTEGER(), table=<measurement>, primary_key=True, nullable=False), Column('station', TEXT(), table=<measurement>), Column('date', TEXT(), table=<measurement>), Column('prcp', FLOAT(), table=<measurement>), Column('tobs', FLOAT(), table=<measurement>), schema=None), Table('station', MetaData(bind=None), Column('id', INTEGER(), table=<station>, primary_key=True, nullable=False), Column('station', TEXT(), table=<station>), Column('name', TEXT(), table=<station>), Column('latitude', FLOAT(), table=<station>), Column('longitude', FLOAT(), table=<station>), Column('elevation', FLOAT(), table=<station>), schema=None)])\n"
     ]
    }
   ],
   "source": [
    "# View all of the classes that automap found\n",
    "classes = Base.metadata.tables\n",
    "columns = classes.values()\n",
    "for clase in classes:\n",
    "    print(clase + \":\")\n",
    "print(columns)\n",
    "\n"
   ]
  },
  {
   "cell_type": "code",
   "execution_count": 12,
   "metadata": {},
   "outputs": [
    {
     "name": "stdout",
     "output_type": "stream",
     "text": [
      "['measurement.id', 'measurement.station', 'measurement.date', 'measurement.prcp', 'measurement.tobs']\n",
      "['station.id', 'station.station', 'station.name', 'station.latitude', 'station.longitude', 'station.elevation']\n"
     ]
    }
   ],
   "source": [
    "# Save references to each table\n",
    "from sqlalchemy import Table, Column, INTEGER, MetaData, TEXT, FLOAT\n",
    "\n",
    "measurement = Table('measurement', MetaData(),\n",
    "                    Column(\n",
    "                        'id',\n",
    "                        INTEGER(),\n",
    "                        primary_key=True,\n",
    "                        nullable=False\n",
    "                    ),\n",
    "                    Column(\n",
    "                        'station',\n",
    "                        TEXT()\n",
    "                    ),\n",
    "                    Column(\n",
    "                        'date',\n",
    "                        TEXT()\n",
    "                    ),\n",
    "                    Column(\n",
    "                        'prcp',\n",
    "                        FLOAT()\n",
    "                    ),\n",
    "                    Column(\n",
    "                        'tobs',\n",
    "                        FLOAT()\n",
    "                    ),\n",
    "              schema=None)\n",
    "station = Table('station', MetaData(),\n",
    "                Column(\n",
    "                    'id',\n",
    "                    INTEGER(),\n",
    "                    primary_key=True,\n",
    "                    nullable=False\n",
    "                ),\n",
    "                Column(\n",
    "                    'station',\n",
    "                    TEXT()),\n",
    "                Column(\n",
    "                    'name',\n",
    "                    TEXT()\n",
    "                ),\n",
    "                Column(\n",
    "                    'latitude',\n",
    "                    FLOAT()\n",
    "                ),\n",
    "                Column(\n",
    "                    'longitude',\n",
    "                    FLOAT()\n",
    "                ),\n",
    "                Column(\n",
    "                    'elevation',\n",
    "                    FLOAT()\n",
    "                ),\n",
    "          schema=None)\n",
    "\n",
    "print(measurement.columns)\n",
    "print(station.columns)"
   ]
  },
  {
   "cell_type": "code",
   "execution_count": 17,
   "metadata": {},
   "outputs": [
    {
     "name": "stdout",
     "output_type": "stream",
     "text": [
      "<sqlalchemy.orm.session.Session object at 0x0000021C5226F3C8>\n"
     ]
    }
   ],
   "source": [
    "# Create our session (link) from Python to the DB\n",
    "\n",
    "session = Session(engine)\n",
    "\n",
    "print(session)"
   ]
  },
  {
   "cell_type": "markdown",
   "metadata": {},
   "source": [
    "# Exploratory Precipitation Analysis"
   ]
  },
  {
   "cell_type": "code",
   "execution_count": 21,
   "metadata": {},
   "outputs": [
    {
     "name": "stdout",
     "output_type": "stream",
     "text": [
      "(1, 'USC00519397', '2010-01-01', 0.08, 65.0)\n"
     ]
    }
   ],
   "source": [
    "# Find the most recent date in the data set.\n",
    "\n",
    "query = session.query(\n",
    "    measurement\n",
    ").order_by(\n",
    "    measurement.columns.date\n",
    ")\n",
    "\n",
    "print(query[0])"
   ]
  },
  {
   "cell_type": "code",
   "execution_count": 22,
   "metadata": {},
   "outputs": [
    {
     "data": {
      "image/png": "[encoded data removed]",
      "text/plain": [
       "<Figure size 432x288 with 1 Axes>"
      ]
     },
     "metadata": {},
     "output_type": "display_data"
    }
   ],
   "source": [
    "# Design a query to retrieve the last 12 months of precipitation data and plot the results. \n",
    "# Starting from the most recent data point in the database.\n",
    "\n",
    "last = query[-1]\n",
    "\n",
    "# Calculate the date one year from the last date in data set.\n",
    "\n",
    "date = last[2]\n",
    "date = str(int(date[:4]) - 1) + date[4:]\n",
    "\n",
    "# Perform a query to retrieve the data and precipitation scores\n",
    "\n",
    "precipitacionScores = session.query(\n",
    "    measurement.columns.date,\n",
    "    measurement.columns.prcp\n",
    ").order_by(\n",
    "    measurement.columns.date\n",
    ").filter(\n",
    "    measurement.columns.date >= date\n",
    ")\n",
    "\n",
    "# Save the query results as a Pandas DataFrame and set the index to the date column\n",
    "\n",
    "ps = pd.read_sql(\n",
    "    precipitacionScores.statement,\n",
    "    precipitacionScores.session.bind\n",
    ")\n",
    "\n",
    "# Sort the dataframe by date\n",
    "\n",
    "ps.sort_values(\n",
    "    'date',\n",
    "    ascending=False\n",
    ")\n",
    "\n",
    "# Use Pandas Plotting with Matplotlib to plot the data\n",
    "\n",
    "plt.plot(ps['date'], ps['prcp'])\n",
    "plt.ylabel(\"Inches\")\n",
    "plt.xlabel(\"Date\")\n",
    "diferents = []\n",
    "months = []\n",
    "for dte in ps.date:\n",
    "    month = dte[5:7]\n",
    "    day=dte[8:]\n",
    "    if not month in months and day == '23':\n",
    "        diferents.append(dte)\n",
    "        months.append(month)\n",
    "plt.xticks(diferents, rotation=90)\n",
    "plt.show()\n"
   ]
  },
  {
   "cell_type": "code",
   "execution_count": 24,
   "metadata": {},
   "outputs": [
    {
     "name": "stdout",
     "output_type": "stream",
     "text": [
      "Precipitation statics:\n",
      "count    2021.000000\n",
      "mean        0.177279\n",
      "std         0.461190\n",
      "min         0.000000\n",
      "25%         0.000000\n",
      "50%         0.020000\n",
      "75%         0.130000\n",
      "max         6.700000\n",
      "Name: prcp, dtype: float64\n"
     ]
    }
   ],
   "source": [
    "# Use Pandas to calcualte the summary statistics for the precipitation data\n",
    "print(\"Precipitation statics:\")\n",
    "print(ps['prcp'].describe())"
   ]
  },
  {
   "cell_type": "markdown",
   "metadata": {},
   "source": [
    "# Exploratory Station Analysis"
   ]
  },
  {
   "cell_type": "code",
   "execution_count": 25,
   "metadata": {},
   "outputs": [
    {
     "name": "stdout",
     "output_type": "stream",
     "text": [
      "[('USC00511918',), ('USC00513117',), ('USC00514830',), ('USC00516128',), ('USC00517948',), ('USC00518838',), ('USC00519281',), ('USC00519397',), ('USC00519523',)]\n"
     ]
    }
   ],
   "source": [
    "# Design a query to calculate the total number stations in the dataset\n",
    "\n",
    "totalStations = session.query(\n",
    "    station.columns.station\n",
    ").group_by(\n",
    "    station.columns.station\n",
    ")\n",
    "print(totalStations.all())"
   ]
  },
  {
   "cell_type": "code",
   "execution_count": 30,
   "metadata": {},
   "outputs": [
    {
     "name": "stdout",
     "output_type": "stream",
     "text": [
      "[('USC00519281', 2772), ('USC00519397', 2724), ('USC00513117', 2709), ('USC00519523', 2669), ('USC00516128', 2612), ('USC00514830', 2202), ('USC00511918', 1979), ('USC00517948', 1372), ('USC00518838', 511)]\n"
     ]
    }
   ],
   "source": [
    "# Design a query to find the most active stations (i.e. what stations have the most rows?)\n",
    "\n",
    "mainStations = session.query(\n",
    "    measurement.columns.station,\n",
    "    sqlalchemy.func.count(\n",
    "        measurement.columns.station\n",
    "    )\n",
    ").group_by(\n",
    "    measurement.columns.station\n",
    ").order_by(\n",
    "    sqlalchemy.desc(\n",
    "        sqlalchemy.func.count(\n",
    "            measurement.columns.station\n",
    "        )\n",
    "    )\n",
    ")\n",
    "\n",
    "# List the stations and the counts in descending order.\n",
    "\n",
    "print(mainStations.all())"
   ]
  },
  {
   "cell_type": "code",
   "execution_count": 31,
   "metadata": {},
   "outputs": [
    {
     "name": "stdout",
     "output_type": "stream",
     "text": [
      "71.66378066378067\n",
      "54.0\n",
      "85.0\n"
     ]
    }
   ],
   "source": [
    "# Using the most active station id from the previous query, calculate the lowest, highest, and average temperature.\n",
    "\n",
    "avg = session.query(\n",
    "    sqlalchemy.func.avg(measurement.columns.tobs)\n",
    ").filter(\n",
    "    measurement.columns.station == mainStations.first()[0]\n",
    ").scalar()\n",
    "\n",
    "print(avg)\n",
    "\n",
    "min = session.query(\n",
    "    func.min(measurement.columns.tobs)\n",
    ").filter(\n",
    "    measurement.columns.station == mainStations.first()[0]\n",
    ").scalar()\n",
    "\n",
    "print(min)\n",
    "\n",
    "max = session.query(\n",
    "    func.max(measurement.columns.tobs)\n",
    ").filter(\n",
    "    measurement.columns.station == mainStations.first()[0]\n",
    ").scalar()\n",
    "\n",
    "print(max)\n"
   ]
  },
  {
   "cell_type": "code",
   "execution_count": 32,
   "metadata": {},
   "outputs": [
    {
     "data": {
      "text/plain": [
       "<matplotlib.axes._subplots.AxesSubplot at 0x21c52638518>"
      ]
     },
     "execution_count": 32,
     "metadata": {},
     "output_type": "execute_result"
    },
    {
     "data": {
      "image/png": "[encoded data removed]",
      "text/plain": [
       "<Figure size 432x288 with 1 Axes>"
      ]
     },
     "metadata": {},
     "output_type": "display_data"
    }
   ],
   "source": [
    "# Using the most active station id\n",
    "# Query the last 12 months of temperature observation data for this station and plot the results as a histogram\n",
    "temps = session.query(\n",
    "    measurement.columns.date,\n",
    "    measurement.columns.tobs\n",
    ").filter(\n",
    "    measurement.columns.date >= date,\n",
    "    measurement.columns.station == mainStations.first()[0]\n",
    ")\n",
    "\n",
    "tempsDF = pd.read_sql(\n",
    "    temps.statement,\n",
    "    temps.session.bind\n",
    ")\n",
    "\n",
    "tempsDF.plot(kind='hist')"
   ]
  },
  {
   "cell_type": "markdown",
   "metadata": {},
   "source": [
    "# Close session"
   ]
  },
  {
   "cell_type": "code",
   "execution_count": 33,
   "metadata": {},
   "outputs": [],
   "source": [
    "# Close Session\n",
    "session.close()"
   ]
  },
  {
   "cell_type": "code",
   "execution_count": 16,
   "metadata": {},
   "outputs": [],
   "source": []
  }
 ],
 "metadata": {
  "anaconda-cloud": {},
  "kernel_info": {
   "name": "python3"
  },
  "kernelspec": {
   "display_name": "Python 3",
   "language": "python",
   "name": "python3"
  },
  "language_info": {
   "codemirror_mode": {
    "name": "ipython",
    "version": 3
   },
   "file_extension": ".py",
   "mimetype": "text/x-python",
   "name": "python",
   "nbconvert_exporter": "python",
   "pygments_lexer": "ipython3",
   "version": "3.6.10"
  },
  "nteract": {
   "version": "0.12.3"
  },
  "varInspector": {
   "cols": {
    "lenName": 16,
    "lenType": 16,
    "lenVar": 40
   },
   "kernels_config": {
    "python": {
     "delete_cmd_postfix": "",
     "delete_cmd_prefix": "del ",
     "library": "var_list.py",
     "varRefreshCmd": "print(var_dic_list())"
    },
    "r": {
     "delete_cmd_postfix": ") ",
     "delete_cmd_prefix": "rm(",
     "library": "var_list.r",
     "varRefreshCmd": "cat(var_dic_list()) "
    }
   },
   "types_to_exclude": [
    "module",
    "function",
    "builtin_function_or_method",
    "instance",
    "_Feature"
   ],
   "window_display": false
  }
 },
 "nbformat": 4,
 "nbformat_minor": 2
}
